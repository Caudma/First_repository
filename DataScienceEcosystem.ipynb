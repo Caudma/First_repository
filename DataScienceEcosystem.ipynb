{
 "cells": [
  {
   "cell_type": "markdown",
   "id": "6d947722-e8ea-418a-bda1-5c1060ba6e42",
   "metadata": {},
   "source": [
    "# Data Science Tools and Ecosystem"
   ]
  },
  {
   "cell_type": "markdown",
   "id": "99d17024-cb2f-4277-868c-4d99b29f8d1c",
   "metadata": {},
   "source": [
    "In this notebook, Data Science Tools and Ecosystem are summarized."
   ]
  },
  {
   "cell_type": "markdown",
   "id": "bda52ba8-d902-41ec-a10c-4a41a953db1c",
   "metadata": {},
   "source": [
    "**Objectives:**\n",
    "- List popular languages for Data Science.\n",
    "- List popular tools for Data Science.\n",
    "- List popular libraries for Data Science.\n",
    "- Get started with GitHub."
   ]
  },
  {
   "cell_type": "markdown",
   "id": "96aef8c4-8bbe-4391-a458-1990b8713af0",
   "metadata": {},
   "source": [
    "Some of the popular languages that Data Scientists use are:\n",
    "1. Python\n",
    "3. R\n",
    "4. Scala\n",
    "5. SQL"
   ]
  },
  {
   "cell_type": "markdown",
   "id": "8a62a914-7f6c-45d2-950a-546cd49409a3",
   "metadata": {},
   "source": [
    "Some of the commonly used libraries used by Data Scientists include:\n",
    "1. ggplot\n",
    "2. matplotlib\n",
    "3. tensorflow\n",
    "4. Pandas\n",
    "5. NumPy"
   ]
  },
  {
   "cell_type": "markdown",
   "id": "8b0e3721-ae77-490d-b6b1-701b43ca088f",
   "metadata": {},
   "source": [
    "|Data Science Tools|\n",
    "|------------------|\n",
    "|MySQL|\n",
    "|Airflow|\n",
    "|Kafka|\n",
    "|Tableau|\n",
    "|PowerBI|"
   ]
  },
  {
   "cell_type": "markdown",
   "id": "d3a5bd18-04fe-4846-9d8c-521b6d81f82d",
   "metadata": {},
   "source": [
    "### Below are a few examples of evaluating arithmetic expressions in Python\n"
   ]
  },
  {
   "cell_type": "code",
   "execution_count": 1,
   "id": "bd29d8bf-47ef-4eed-b7d7-b36ffc814144",
   "metadata": {},
   "outputs": [
    {
     "data": {
      "text/plain": [
       "17"
      ]
     },
     "execution_count": 1,
     "metadata": {},
     "output_type": "execute_result"
    }
   ],
   "source": [
    "#This a simple arithmetic expression to mutiply then add integers\n",
    "(3*4)+5"
   ]
  },
  {
   "cell_type": "code",
   "execution_count": 2,
   "id": "f32aa70b-c453-48b0-80e9-7f37c8979c03",
   "metadata": {},
   "outputs": [
    {
     "name": "stdout",
     "output_type": "stream",
     "text": [
      "200 minutes into hours is 3.333333\n"
     ]
    }
   ],
   "source": [
    "#This will convert 200 minutes to hours by diving by 60\n",
    "x=200/60\n",
    "print(f\"200 minutes into hours is {x:f}\")"
   ]
  },
  {
   "cell_type": "markdown",
   "id": "f769863e-08d2-4867-8793-fb29a8887ac1",
   "metadata": {},
   "source": [
    "## Author\n",
    "Carlos Udina Martin"
   ]
  },
  {
   "cell_type": "code",
   "execution_count": null,
   "id": "87c6c22c-7ddb-42c4-8364-247fbbe0fc29",
   "metadata": {},
   "outputs": [],
   "source": []
  }
 ],
 "metadata": {
  "kernelspec": {
   "display_name": "Python 3 (ipykernel)",
   "language": "python",
   "name": "python3"
  },
  "language_info": {
   "codemirror_mode": {
    "name": "ipython",
    "version": 3
   },
   "file_extension": ".py",
   "mimetype": "text/x-python",
   "name": "python",
   "nbconvert_exporter": "python",
   "pygments_lexer": "ipython3",
   "version": "3.11.9"
  }
 },
 "nbformat": 4,
 "nbformat_minor": 5
}
